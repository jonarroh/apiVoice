{
  "nbformat": 4,
  "nbformat_minor": 0,
  "metadata": {
    "colab": {
      "provenance": [],
      "include_colab_link": true
    },
    "kernelspec": {
      "name": "python3",
      "display_name": "Python 3"
    },
    "language_info": {
      "name": "python"
    }
  },
  "cells": [
    {
      "cell_type": "markdown",
      "metadata": {
        "id": "view-in-github",
        "colab_type": "text"
      },
      "source": [
        "<a href=\"https://colab.research.google.com/github/jonarroh/apiVoice/blob/main/elevenlabs_python.ipynb\" target=\"_parent\"><img src=\"https://colab.research.google.com/assets/colab-badge.svg\" alt=\"Open In Colab\"/></a>"
      ]
    },
    {
      "cell_type": "markdown",
      "source": [
        "# ElevenLabs Python\n",
        "\n",
        "GitHub: [https://github.com/elevenlabs/elevenlabs-python](https://github.com/elevenlabs/elevenlabs-python)\n",
        "\n",
        "Website: [https://elevenlabs.io/](https://elevenlabs.io/)"
      ],
      "metadata": {
        "id": "2P5x4CzE-kLi"
      }
    },
    {
      "cell_type": "code",
      "execution_count": null,
      "metadata": {
        "id": "235UiEgkOYrk"
      },
      "outputs": [],
      "source": [
        "!pip install elevenlabs -U"
      ]
    },
    {
      "cell_type": "code",
      "source": [
        "!pip install pyngrok"
      ],
      "metadata": {
        "id": "nIqELluoQGHL"
      },
      "execution_count": null,
      "outputs": []
    },
    {
      "cell_type": "code",
      "source": [
        "!pip install flask_cors"
      ],
      "metadata": {
        "id": "vOSs6kSBUvOh"
      },
      "execution_count": null,
      "outputs": []
    },
    {
      "cell_type": "code",
      "source": [
        "from flask import Flask, jsonify, request\n",
        "from flask_cors import CORS\n",
        "from pyngrok import ngrok\n",
        "from elevenlabs import generate, play\n",
        "import base64\n",
        "\n",
        "app = Flask(__name__)\n",
        "CORS(app)\n",
        "PORT = 5000\n",
        "ngrok.set_auth_token(\"2NcRaBVmS5V6gTckwXJBPVntA4o_SdqJUXajMMTDKvRGGraF\")\n",
        "public_url = ngrok.connect(PORT).public_url\n",
        "print(public_url)\n",
        "@app.route(\"/\")\n",
        "def home():\n",
        "\treturn jsonify({\"mensaje\":\"hola\"})\n",
        " \n",
        "@app.route(\"/voice\", methods=['POST'])\n",
        "def voice():\n",
        "  data = request.get_json()\n",
        "  texto = data['text']\n",
        "  print(texto,\"text\")\n",
        "  audio = generate(\n",
        "    text=texto,\n",
        "    voice=\"diana\",\n",
        "    model='eleven_multilingual_v1'\n",
        "    )\n",
        "  #convertir a base64 el audio\n",
        "  base64_data = base64.b64encode(audio)\n",
        "  print(base64_data)\n",
        "  return base64_data\n",
        "\t\n",
        "app.run()\n"
      ],
      "metadata": {
        "id": "R2YZw9jURGaM"
      },
      "execution_count": null,
      "outputs": []
    },
    {
      "cell_type": "code",
      "source": [
        "from elevenlabs import voices, generate, set_api_key\n",
        "\n",
        "set_api_key('') \n",
        "voices = voices()\n",
        "print(voices)"
      ],
      "metadata": {
        "colab": {
          "base_uri": "https://localhost:8080/"
        },
        "id": "RbOI1VXzO8ep",
        "outputId": "1d349718-72bf-4d81-b5a9-bc7062614771"
      },
      "execution_count": null,
      "outputs": [
        {
          "output_type": "stream",
          "name": "stdout",
          "text": [
            "voices=[Voice(voice_id='21m00Tcm4TlvDq8ikWAM', name='Rachel', category='premade', settings=VoiceSettings(stability=0.75, similarity_boost=0.75)), Voice(voice_id='AZnzlk1XvdvUeBnXmlld', name='Domi', category='premade', settings=VoiceSettings(stability=0.75, similarity_boost=0.75)), Voice(voice_id='EXAVITQu4vr4xnSDxMaL', name='Bella', category='premade', settings=VoiceSettings(stability=0.75, similarity_boost=0.75)), Voice(voice_id='ErXwobaYiN019PkySvjV', name='Antoni', category='premade', settings=VoiceSettings(stability=0.75, similarity_boost=0.75)), Voice(voice_id='MF3mGyEYCl7XYWbV9V6O', name='Elli', category='premade', settings=VoiceSettings(stability=0.75, similarity_boost=0.75)), Voice(voice_id='TxGEqnHWrfWFTfGW9XjX', name='Josh', category='premade', settings=VoiceSettings(stability=0.75, similarity_boost=0.75)), Voice(voice_id='VR6AewLTigWG4xSOukaG', name='Arnold', category='premade', settings=VoiceSettings(stability=0.75, similarity_boost=0.75)), Voice(voice_id='pNInz6obpgDQGcFmaJgB', name='Adam', category='premade', settings=VoiceSettings(stability=0.75, similarity_boost=0.75)), Voice(voice_id='yoZ06aMxZJJ28mfd3POQ', name='Sam', category='premade', settings=VoiceSettings(stability=0.75, similarity_boost=0.75)), Voice(voice_id='C4MP6khfFhVhUN8lDkaH', name='ella', category='cloned', settings=VoiceSettings(stability=0.765, similarity_boost=0.4)), Voice(voice_id='elvDCmnizSeyvv8Wxf1N', name='diana', category='cloned', settings=VoiceSettings(stability=0.405, similarity_boost=0.59))]\n"
          ]
        }
      ]
    },
    {
      "cell_type": "code",
      "source": [
        "from elevenlabs import generate, stream\n",
        "\n",
        "audio_stream = generate(\n",
        "  text=\"This is a... streaming voice!!\",\n",
        "  stream=True\n",
        ")\n",
        "\n",
        "stream(audio_stream)"
      ],
      "metadata": {
        "id": "pKmAd5rbPJY2"
      },
      "execution_count": null,
      "outputs": []
    },
    {
      "cell_type": "code",
      "source": [
        "from elevenlabs import generate, play\n",
        "\n",
        "audio = generate(\n",
        "    text=\"y\",\n",
        "    voice=\"diana\",\n",
        "    model='eleven_multilingual_v1'\n",
        ")\n",
        "print(type(audio))\n",
        "play(audio, notebook=True)"
      ],
      "metadata": {
        "colab": {
          "base_uri": "https://localhost:8080/",
          "height": 79
        },
        "id": "PgiZH9pwOcSw",
        "outputId": "1a2b95a1-01fe-4095-b2ca-1c99b2f12294"
      },
      "execution_count": null,
      "outputs": [
        {
          "output_type": "stream",
          "name": "stdout",
          "text": [
            "<class 'bytes'>\n"
          ]
        },
        {
          "output_type": "display_data",
          "data": {
            "text/plain": [
              "<IPython.lib.display.Audio object>"
            ],
            "text/html": [
              "\n",
              "                <audio  controls=\"controls\" autoplay=\"autoplay\">\n",
              "                    <source src=\"data:audio/wav;base64,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\" type=\"audio/wav\" />\n",
              "                    Your browser does not support the audio element.\n",
              "                </audio>\n",
              "              "
            ]
          },
          "metadata": {}
        }
      ]
    }
  ]
}